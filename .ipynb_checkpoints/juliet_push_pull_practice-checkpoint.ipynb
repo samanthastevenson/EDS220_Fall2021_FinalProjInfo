{
 "cells": [
  {
   "cell_type": "code",
   "execution_count": 1,
   "id": "66251586",
   "metadata": {},
   "outputs": [
    {
     "data": {
      "text/plain": [
       "-5"
      ]
     },
     "execution_count": 1,
     "metadata": {},
     "output_type": "execute_result"
    }
   ],
   "source": [
    "important_number = 4 - 9\n",
    "important_number"
   ]
  },
  {
   "cell_type": "code",
   "execution_count": 2,
   "id": "ea3e0a3d",
   "metadata": {},
   "outputs": [
    {
     "data": {
      "text/plain": [
       "2"
      ]
     },
     "execution_count": 2,
     "metadata": {},
     "output_type": "execute_result"
    }
   ],
   "source": [
    "other_number = 6 - 4\n",
    "other_number"
   ]
  },
  {
   "cell_type": "code",
   "execution_count": null,
   "id": "0a77a38b",
   "metadata": {},
   "outputs": [],
   "source": []
  }
 ],
 "metadata": {
  "kernelspec": {
   "display_name": "Python 3 (ipykernel)",
   "language": "python",
   "name": "python3"
  },
  "language_info": {
   "codemirror_mode": {
    "name": "ipython",
    "version": 3
   },
   "file_extension": ".py",
   "mimetype": "text/x-python",
   "name": "python",
   "nbconvert_exporter": "python",
   "pygments_lexer": "ipython3",
   "version": "3.9.7"
  }
 },
 "nbformat": 4,
 "nbformat_minor": 5
}
